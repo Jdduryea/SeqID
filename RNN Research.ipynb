{
 "cells": [
  {
   "cell_type": "markdown",
   "metadata": {},
   "source": [
    "# Identification of Bona Fide DNA Sequences with Deep Learning"
   ]
  },
  {
   "cell_type": "code",
   "execution_count": 535,
   "metadata": {},
   "outputs": [],
   "source": [
    "import numpy as np\n",
    "from keras.datasets import imdb\n",
    "from keras.models import Sequential\n",
    "from keras.layers import Dense\n",
    "from keras.layers import LSTM\n",
    "from keras.layers import Dropout\n",
    "from keras.layers import Conv1D,Flatten\n",
    "from keras.layers.embeddings import Embedding\n",
    "from keras.preprocessing import sequence\n",
    "from sklearn.model_selection import train_test_split\n",
    "from keras.layers import Embedding\n",
    "from keras.layers import Conv1D, GlobalAveragePooling1D, MaxPooling1D\n",
    "from sklearn.metrics import roc_curve, auc\n",
    "\n",
    "import matplotlib.pyplot as plt\n",
    "%matplotlib inline"
   ]
  },
  {
   "cell_type": "markdown",
   "metadata": {},
   "source": [
    "## Data Preprocessing"
   ]
  },
  {
   "cell_type": "code",
   "execution_count": 541,
   "metadata": {},
   "outputs": [],
   "source": [
    "# Encoding Scheme\n",
    "# A: 1\n",
    "# C: 2\n",
    "# G: 3\n",
    "# T: 4\n",
    "\n",
    "# Turns a sequence of DNA into a vector\n",
    "# Replaces\n",
    "def seq_to_vec(sequence):\n",
    "    sequence = sequence.replace(\" \",\"\")\n",
    "    sequence = sequence.replace(\"\\n\",\"\")\n",
    "    vec = np.zeros(len(sequence))\n",
    "    for i,s in enumerate(sequence):\n",
    "        c = 0\n",
    "        if s == \"A\":\n",
    "            c = 1\n",
    "        elif s == \"C\":\n",
    "            c = 2\n",
    "        elif s == \"G\":\n",
    "            c = 3\n",
    "        elif s == \"T\":\n",
    "            c = 4\n",
    "        \n",
    "        # N means unknown, randomly choose\n",
    "        # Note: this happens very little\n",
    "        if c == 0:\n",
    "            c = np.random.choice([1,2,3,4])\n",
    "        \n",
    "        vec[i] = c\n",
    "            \n",
    "    return vec\n",
    "\n",
    "# Turns a vector of numbers back into the DNA sequence\n",
    "def vec_to_seq(vec):\n",
    "    seq = \"\"\n",
    "    for i in vec:\n",
    "        if i == 1:\n",
    "            seq += \"A\"\n",
    "        if i == 2:\n",
    "            seq += \"C\"\n",
    "        if i == 3:\n",
    "            seq += \"G\"\n",
    "        if i == 4:\n",
    "            seq += \"T\"\n",
    "    return seq\n",
    "        "
   ]
  },
  {
   "cell_type": "code",
   "execution_count": 542,
   "metadata": {},
   "outputs": [],
   "source": [
    "# Read Real Sequences\n",
    "big_seq = \"\"\n",
    "seq_file = open(\"bigseq.txt\",\"rb\")\n",
    "for line in seq_file:\n",
    "    big_seq += line    "
   ]
  },
  {
   "cell_type": "code",
   "execution_count": 543,
   "metadata": {},
   "outputs": [],
   "source": [
    "# Get real sequences\n",
    "big_seq = big_seq.replace(\" \",\"\") # filter white space\n",
    "big_seq = big_seq.replace(\"\\n\",\"\")\n",
    "real_seqs = np.zeros((num_seqs, seq_length))\n",
    "for i in range(num_seqs):\n",
    "    seq = big_seq[i*seq_length: (i+1)*seq_length]\n",
    "    vec = seq_to_vec(seq)\n",
    "    real_seqs[i] = vec"
   ]
  },
  {
   "cell_type": "code",
   "execution_count": 544,
   "metadata": {},
   "outputs": [],
   "source": [
    "# Generate Fake Sequences\n",
    "seq_length = 10000\n",
    "num_seqs = 3500\n",
    "fake_seqs = np.random.randint(4,size=(num_seqs,seq_length))+1"
   ]
  },
  {
   "cell_type": "code",
   "execution_count": 545,
   "metadata": {},
   "outputs": [],
   "source": [
    "# Assign data to X and labels to y\n",
    "X = np.zeros((2*num_seqs, seq_length))\n",
    "y = np.zeros(2*num_seqs)\n",
    "\n",
    "X[:num_seqs] = fake_seqs\n",
    "y[:num_seqs] = 0\n",
    "\n",
    "X[num_seqs:] = real_seqs\n",
    "y[num_seqs:] = 1\n",
    "\n",
    "max_length = seq_length"
   ]
  },
  {
   "cell_type": "markdown",
   "metadata": {},
   "source": [
    "## Data Exploration"
   ]
  },
  {
   "cell_type": "code",
   "execution_count": 546,
   "metadata": {},
   "outputs": [
    {
     "data": {
      "image/png": "[encoded data removed]",
      "text/plain": [
       "<matplotlib.figure.Figure at 0x19b31b3d0>"
      ]
     },
     "metadata": {},
     "output_type": "display_data"
    }
   ],
   "source": [
    "plt.hist(real_seqs.flatten());\n",
    "plt.title(\"Real Sequences\");\n",
    "plt.ylabel(\"Frequency\");\n",
    "plt.xticks(np.arange(1,5), ('A', 'C', 'G', 'T'));\n",
    "plt.savefig(\"Real.png\",dpi=500)"
   ]
  },
  {
   "cell_type": "code",
   "execution_count": 547,
   "metadata": {},
   "outputs": [
    {
     "data": {
      "image/png": "[encoded data removed]",
      "text/plain": [
       "<matplotlib.figure.Figure at 0x1aa352190>"
      ]
     },
     "metadata": {},
     "output_type": "display_data"
    }
   ],
   "source": [
    "plt.hist(fake_seqs.flatten());\n",
    "plt.title(\"Fake Sequences\");\n",
    "plt.ylabel(\"Frequency\");\n",
    "plt.xticks(np.arange(1,5), ('A', 'C', 'G', 'T'));\n",
    "plt.savefig(\"Fake.png\",dpi=500)"
   ]
  },
  {
   "cell_type": "code",
   "execution_count": 548,
   "metadata": {},
   "outputs": [],
   "source": [
    "# Split train and test\n",
    "X_train, X_test, y_train, y_test = train_test_split(X, y)"
   ]
  },
  {
   "cell_type": "markdown",
   "metadata": {},
   "source": [
    "## CNN Model"
   ]
  },
  {
   "cell_type": "code",
   "execution_count": 549,
   "metadata": {
    "collapsed": true
   },
   "outputs": [],
   "source": [
    "X_train_exp = np.expand_dims(X_train, axis=2) # add extra dimesion to make keras happy"
   ]
  },
  {
   "cell_type": "code",
   "execution_count": 550,
   "metadata": {},
   "outputs": [
    {
     "name": "stdout",
     "output_type": "stream",
     "text": [
      "Train on 4200 samples, validate on 1050 samples\n",
      "Epoch 1/10\n",
      "4200/4200 [==============================] - 28s - loss: 0.6911 - acc: 0.5364 - val_loss: 0.6815 - val_acc: 0.5295\n",
      "Epoch 2/10\n",
      "4200/4200 [==============================] - 24s - loss: 0.6640 - acc: 0.6198 - val_loss: 0.5704 - val_acc: 0.8848\n",
      "Epoch 3/10\n",
      "4200/4200 [==============================] - 24s - loss: 0.5005 - acc: 0.7883 - val_loss: 0.4360 - val_acc: 0.8019\n",
      "Epoch 4/10\n",
      "4200/4200 [==============================] - 24s - loss: 0.3314 - acc: 0.8829 - val_loss: 0.2421 - val_acc: 0.9505\n",
      "Epoch 5/10\n",
      "4200/4200 [==============================] - 24s - loss: 0.2811 - acc: 0.9021 - val_loss: 0.2060 - val_acc: 0.9533\n",
      "Epoch 6/10\n",
      "4200/4200 [==============================] - 24s - loss: 0.2446 - acc: 0.9212 - val_loss: 0.1843 - val_acc: 0.9552\n",
      "Epoch 7/10\n",
      "4200/4200 [==============================] - 24s - loss: 0.2109 - acc: 0.9369 - val_loss: 0.2468 - val_acc: 0.9286\n",
      "Epoch 8/10\n",
      "4200/4200 [==============================] - 24s - loss: 0.2359 - acc: 0.9179 - val_loss: 0.2568 - val_acc: 0.9143\n",
      "Epoch 9/10\n",
      "4200/4200 [==============================] - 24s - loss: 0.1804 - acc: 0.9421 - val_loss: 0.1382 - val_acc: 0.9638\n",
      "Epoch 10/10\n",
      "4200/4200 [==============================] - 24s - loss: 0.1626 - acc: 0.9479 - val_loss: 0.1241 - val_acc: 0.9657\n"
     ]
    }
   ],
   "source": [
    "model = Sequential()\n",
    "model.add(Conv1D(16, 2, activation='relu', input_shape=(seq_length,1)))\n",
    "model.add(Conv1D(16, 2, activation='relu'))\n",
    "model.add(MaxPooling1D(3))\n",
    "model.add(Conv1D(16, 3, activation='relu'))\n",
    "model.add(GlobalAveragePooling1D())\n",
    "model.add(Dense(100, activation='relu'))\n",
    "model.add(Dropout(0.5))\n",
    "model.add(Dense(1, activation='sigmoid'))\n",
    "\n",
    "model.compile(loss='binary_crossentropy',\n",
    "              optimizer='adam',\n",
    "              metrics=['accuracy'])\n",
    "\n",
    "history = model.fit(X_train_exp, y_train, batch_size=16, epochs=10, validation_split=0.2)"
   ]
  },
  {
   "cell_type": "code",
   "execution_count": 522,
   "metadata": {},
   "outputs": [
    {
     "name": "stdout",
     "output_type": "stream",
     "text": [
      "_________________________________________________________________\n",
      "Layer (type)                 Output Shape              Param #   \n",
      "=================================================================\n",
      "conv1d_129 (Conv1D)          (None, 9999, 16)          48        \n",
      "_________________________________________________________________\n",
      "conv1d_130 (Conv1D)          (None, 9998, 16)          528       \n",
      "_________________________________________________________________\n",
      "max_pooling1d_31 (MaxPooling (None, 3332, 16)          0         \n",
      "_________________________________________________________________\n",
      "conv1d_131 (Conv1D)          (None, 3330, 16)          784       \n",
      "_________________________________________________________________\n",
      "global_average_pooling1d_26  (None, 16)                0         \n",
      "_________________________________________________________________\n",
      "dense_164 (Dense)            (None, 100)               1700      \n",
      "_________________________________________________________________\n",
      "dropout_94 (Dropout)         (None, 100)               0         \n",
      "_________________________________________________________________\n",
      "dense_165 (Dense)            (None, 1)                 101       \n",
      "=================================================================\n",
      "Total params: 3,161\n",
      "Trainable params: 3,161\n",
      "Non-trainable params: 0\n",
      "_________________________________________________________________\n",
      "None\n"
     ]
    }
   ],
   "source": [
    "print model.summary()"
   ]
  },
  {
   "cell_type": "markdown",
   "metadata": {},
   "source": [
    "## Model Performance"
   ]
  },
  {
   "cell_type": "code",
   "execution_count": 498,
   "metadata": {},
   "outputs": [
    {
     "data": {
      "image/png": "[encoded data removed]",
      "text/plain": [
       "<matplotlib.figure.Figure at 0x1aa721a90>"
      ]
     },
     "metadata": {},
     "output_type": "display_data"
    }
   ],
   "source": [
    "plt.plot(history.history[\"acc\"],label=\"train\")\n",
    "plt.plot(history.history[\"val_acc\"],label=\"val\")\n",
    "plt.legend()\n",
    "plt.title(\"Model Performance\")\n",
    "plt.xlabel(\"Epochs\")\n",
    "plt.ylabel(\"Accuracy\")\n",
    "plt.savefig(\"cnn_loss.png\",dpi=500)"
   ]
  },
  {
   "cell_type": "markdown",
   "metadata": {},
   "source": [
    "# Test Accuracy"
   ]
  },
  {
   "cell_type": "code",
   "execution_count": 552,
   "metadata": {},
   "outputs": [],
   "source": [
    "X_test_exp = np.expand_dims(X_test, axis=2)"
   ]
  },
  {
   "cell_type": "code",
   "execution_count": 553,
   "metadata": {},
   "outputs": [
    {
     "name": "stdout",
     "output_type": "stream",
     "text": [
      "[0.11449907280717578, 0.96857142857142853]\n"
     ]
    }
   ],
   "source": [
    "scores = model.evaluate(X_test_exp, y_test, verbose=0)\n",
    "print scores"
   ]
  },
  {
   "cell_type": "code",
   "execution_count": 554,
   "metadata": {},
   "outputs": [
    {
     "name": "stdout",
     "output_type": "stream",
     "text": [
      "1728/1750 [============================>.] - ETA: 0s"
     ]
    }
   ],
   "source": [
    "y_pred = model.predict_proba(X_test_exp)"
   ]
  },
  {
   "cell_type": "code",
   "execution_count": 555,
   "metadata": {},
   "outputs": [],
   "source": [
    "fpr, tpr, thresholds = roc_curve(y_test, y_pred)"
   ]
  },
  {
   "cell_type": "code",
   "execution_count": 537,
   "metadata": {},
   "outputs": [
    {
     "data": {
      "text/plain": [
       "array([[ 0.01212091],\n",
       "       [ 0.99886858],\n",
       "       [ 0.00739777],\n",
       "       ..., \n",
       "       [ 0.05142074],\n",
       "       [ 0.00933153],\n",
       "       [ 0.99968159]], dtype=float32)"
      ]
     },
     "execution_count": 537,
     "metadata": {},
     "output_type": "execute_result"
    }
   ],
   "source": [
    "y_pred"
   ]
  },
  {
   "cell_type": "code",
   "execution_count": 538,
   "metadata": {},
   "outputs": [
    {
     "data": {
      "text/plain": [
       "array([ 0.,  0.,  0., ...,  1.,  1.,  1.])"
      ]
     },
     "execution_count": 538,
     "metadata": {},
     "output_type": "execute_result"
    }
   ],
   "source": [
    "y_test"
   ]
  },
  {
   "cell_type": "code",
   "execution_count": 557,
   "metadata": {},
   "outputs": [
    {
     "data": {
      "image/png": "[encoded data removed]",
      "text/plain": [
       "<matplotlib.figure.Figure at 0x1b1bdf990>"
      ]
     },
     "metadata": {},
     "output_type": "display_data"
    }
   ],
   "source": [
    "false_positive_rate, true_positive_rate, thresholds = roc_curve(y_test, y_pred)\n",
    "roc_auc = auc(false_positive_rate, true_positive_rate)\n",
    "\n",
    "plt.title('Receiver Operating Characteristic')\n",
    "plt.plot(false_positive_rate, true_positive_rate, 'b', label='AUC = %0.2f'% roc_auc)\n",
    "plt.xlabel(\"false_positive_rate\")\n",
    "plt.ylabel(\"true_positive_rate\")\n",
    "plt.savefig(\"ROC.png\",dpi=500)"
   ]
  },
  {
   "cell_type": "code",
   "execution_count": 518,
   "metadata": {
    "collapsed": true
   },
   "outputs": [],
   "source": [
    "# Scratch Work"
   ]
  },
  {
   "cell_type": "code",
   "execution_count": 519,
   "metadata": {},
   "outputs": [],
   "source": [
    "# # create the model\n",
    "# embedding_vecor_length = 32\n",
    "# model = Sequential()\n",
    "# model.add(Embedding(top_words, embedding_vecor_length, input_length=max_length))\n",
    "# #model.add(Dropout(0.5))\n",
    "# model.add(LSTM(100))\n",
    "# #model.add(Dropout(0.5))\n",
    "# model.add(Dense(1, activation='sigmoid'))\n",
    "# model.compile(loss='binary_crossentropy', optimizer='adam', metrics=['accuracy'])\n",
    "# print(model.summary())\n",
    "# model.fit(X_train, y_train, epochs=5, batch_size=32, validation_split=0.2)\n",
    "# # Final evaluation of the model\n",
    "# #scores = model.evaluate(X_test[:100], y_test[:100], verbose=0)\n",
    "# #print(\"Accuracy: %.2f%%\" % (scores[1]*100))"
   ]
  },
  {
   "cell_type": "code",
   "execution_count": 520,
   "metadata": {},
   "outputs": [],
   "source": [
    "# scores = model.evaluate(X_test, y_test)\n",
    "# print scores\n",
    "# print(\"Accuracy: %.2f%%\" % (scores[1]*100))"
   ]
  }
 ],
 "metadata": {
  "kernelspec": {
   "display_name": "Python 2",
   "language": "python",
   "name": "python2"
  },
  "language_info": {
   "codemirror_mode": {
    "name": "ipython",
    "version": 2
   },
   "file_extension": ".py",
   "mimetype": "text/x-python",
   "name": "python",
   "nbconvert_exporter": "python",
   "pygments_lexer": "ipython2",
   "version": "2.7.13"
  }
 },
 "nbformat": 4,
 "nbformat_minor": 2
}
